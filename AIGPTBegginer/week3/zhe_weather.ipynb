{
 "cells": [
  {
   "cell_type": "markdown",
   "id": "4d9ceba7",
   "metadata": {},
   "source": [
    "通过和风天气API 查询 （https://console.qweather.com/#/apps）"
   ]
  },
  {
   "cell_type": "code",
   "execution_count": 9,
   "id": "7c4cf744",
   "metadata": {},
   "outputs": [
    {
     "name": "stdout",
     "output_type": "stream",
     "text": [
      "气温:24 天气:多云 风向:东北风\n"
     ]
    }
   ],
   "source": [
    "import json\n",
    "import requests\n",
    "import os\n",
    "from tenacity import retry, wait_random_exponential, stop_after_attempt\n",
    "from termcolor import colored\n",
    "\n",
    "QWEATHER_API_KEY = \"<API_KEY>\"\n",
    "LOCATION_QUERY_URL = \"https://geoapi.qweather.com/v2/city/lookup?\"\n",
    "WEATHER_QUERY_URL = \"https://devapi.qweather.com/v7/weather/now?\"\n",
    "\n",
    "@retry(wait=wait_random_exponential(multiplier=1, max=40), stop=stop_after_attempt(3))\n",
    "def query_qweather_request(city):\n",
    "    headers = { \"Content-Type\": \"application/json\"}\n",
    "\n",
    "    try:\n",
    "        resp = requests.get(LOCATION_QUERY_URL + \"location=\" + city + \"&key=\" + QWEATHER_API_KEY).json()\n",
    "    except Exception as e:\n",
    "        print(\"Unable to query GEO location\")\n",
    "        print(f\"Exception: {e}\")\n",
    "        return None\n",
    "    \n",
    "    if resp['code'] != '200' or len(resp['location']) < 1:\n",
    "        print(\"Failed to retrieve location code! Resp:\" + str(resp))\n",
    "        return None\n",
    "    \n",
    "    city_code = resp['location'][0]['id']\n",
    "    \n",
    "    try:\n",
    "        weather_response = requests.get(WEATHER_QUERY_URL + \"location=\" + city_code + \"&key=\" + QWEATHER_API_KEY).json()\n",
    "    except Exception as e:\n",
    "        print(\"Unable to query weather\")\n",
    "        print(f\"Exception: {e}\")\n",
    "        return None\n",
    "    \n",
    "    if weather_response['code'] != '200' or weather_response['now'] is None:\n",
    "        print(\"Failed to retrieve weather! Resp:\" + str(weather_response))\n",
    "        return None\n",
    "    \n",
    "    return \"气温:\" + weather_response['now'][\"temp\"] + \" 天气:\" + weather_response['now'][\"text\"] + \" 风向:\" + weather_response['now'][\"windDir\"]\n",
    "\n",
    "\n",
    "\n",
    "resp = query_qweather_request(\"shanghai, China\")\n",
    "print(resp)\n",
    "\n"
   ]
  },
  {
   "cell_type": "code",
   "execution_count": 10,
   "id": "da9ce125",
   "metadata": {},
   "outputs": [],
   "source": [
    "GPT_MODEL = \"gpt-3.5-turbo\"\n",
    "OPENAI_BASE_URL = \"<OPEN_AI URL>\"\n",
    "OPENAI_API_KEY = \"<API_KEY>\""
   ]
  },
  {
   "cell_type": "code",
   "execution_count": 11,
   "id": "f20780b1",
   "metadata": {},
   "outputs": [],
   "source": [
    "@retry(wait=wait_random_exponential(multiplier=1, max=40), stop=stop_after_attempt(3))\n",
    "def openai_chat_request(messages, functions=None, function_call=None, model=GPT_MODEL):\n",
    "    headers = { \"Content-Type\": \"application/json\", \"Authorization\": \"Bearer \" + OPENAI_API_KEY }\n",
    "\n",
    "    # 设定请求的JSON数据，包括GPT 模型名和要进行补全的消息\n",
    "    json_data = {\"model\": model, \"messages\": messages}\n",
    "\n",
    "    # 如果传入了functions，将其加入到json_data中\n",
    "    if functions is not None:\n",
    "        json_data.update({\"functions\": functions})\n",
    "\n",
    "    # 如果传入了function_call，将其加入到json_data中\n",
    "    if function_call is not None:\n",
    "        json_data.update({\"function_call\": function_call})\n",
    "\n",
    "    # 尝试发送POST请求到OpenAI服务器的chat/completions接口\n",
    "    try:\n",
    "        response = requests.post(\n",
    "            OPENAI_BASE_URL + \"/chat/completions\",\n",
    "            headers=headers,\n",
    "            json=json_data,\n",
    "        )\n",
    "        # 返回服务器的响应\n",
    "        return response\n",
    "\n",
    "    # 如果发送请求或处理响应时出现异常，打印异常信息并返回\n",
    "    except Exception as e:\n",
    "        print(\"Unable to generate ChatCompletion response\")\n",
    "        print(f\"Exception: {e}\")\n",
    "        return e\n",
    "\n",
    "def pretty_print_conversation(messages):\n",
    "\n",
    "    # 为不同角色设置不同的颜色\n",
    "    role_to_color = {\n",
    "        \"system\": \"yellow\",\n",
    "        \"user\": \"green\",\n",
    "        \"assistant\": \"blue\",\n",
    "        \"function\": \"magenta\",\n",
    "    }\n",
    "\n",
    "    # 遍历消息列表\n",
    "    for message in messages:\n",
    "\n",
    "        # 如果消息的角色是\"system\"，则用红色打印“content”\n",
    "        if message[\"role\"] == \"system\":\n",
    "            print(colored(f\"system: {message['content']}\\n\", role_to_color[message[\"role\"]]))\n",
    "\n",
    "        # 如果消息的角色是\"user\"，则用绿色打印“content”\n",
    "        elif message[\"role\"] == \"user\":\n",
    "            print(colored(f\"user: {message['content']}\\n\", role_to_color[message[\"role\"]]))\n",
    "\n",
    "        # 如果消息的角色是\"assistant\"，并且消息中包含\"function_call\"，则用蓝色打印\"function_call\"\n",
    "        elif message[\"role\"] == \"assistant\" and message.get(\"function_call\"):\n",
    "            print(colored(f\"assistant[function_call]: {message['function_call']}\\n\", role_to_color[message[\"role\"]]))\n",
    "\n",
    "        # 如果消息的角色是\"assistant\"，但是消息中不包含\"function_call\"，则用蓝色打印“content”\n",
    "        elif message[\"role\"] == \"assistant\" and not message.get(\"function_call\"):\n",
    "            print(colored(f\"assistant[content]: {message['content']}\\n\", role_to_color[message[\"role\"]]))\n",
    "\n",
    "        # 如果消息的角色是\"function\"，则用品红色打印“function”\n",
    "        elif message[\"role\"] == \"function\":\n",
    "            print(colored(f\"function ({message['name']}): {message['content']}\\n\", role_to_color[message[\"role\"]]))\n"
   ]
  },
  {
   "cell_type": "code",
   "execution_count": 12,
   "id": "f75aa4fb",
   "metadata": {},
   "outputs": [],
   "source": [
    "functions = [\n",
    "    {\n",
    "        \"name\": \"get_current_weather\",\n",
    "        \"description\": \"Get the current weather\",\n",
    "        \"parameters\": {\n",
    "            \"type\": \"object\",\n",
    "            \"properties\": {  \n",
    "                \"location\": {  \n",
    "                    \"type\": \"string\",\n",
    "                    \"description\": \"The city and state, e.g. San Francisco, CA\",\n",
    "                }\n",
    "            },\n",
    "            \"required\": [\"location\"]\n",
    "        }\n",
    "    }\n",
    "]"
   ]
  },
  {
   "cell_type": "code",
   "execution_count": 13,
   "id": "592c5372",
   "metadata": {},
   "outputs": [],
   "source": [
    "def execute_function_call(message):\n",
    "    \"\"\"执行函数调用\"\"\"\n",
    "    # 判断功能调用的名称是否为 \"ask_database\"\n",
    "    if message[\"function_call\"][\"name\"] == \"get_current_weather\":\n",
    "        # 如果是，则获取功能调用的参数，这里是 SQL 查询\n",
    "        location = json.loads(message[\"function_call\"][\"arguments\"])[\"location\"]\n",
    "        # 使用 ask_database 函数执行查询，并获取结果\n",
    "        results = query_qweather_request(location)\n",
    "    else:\n",
    "        results = f\"Error: function {message['function_call']['name']} does not exist\"\n",
    "    return results  # 返回结果"
   ]
  },
  {
   "cell_type": "code",
   "execution_count": 14,
   "id": "9eebf81d",
   "metadata": {},
   "outputs": [
    {
     "name": "stdout",
     "output_type": "stream",
     "text": [
      "\u001b[33msystem: Don't make assumptions about what values to plug into functions. Ask for clarification if a user request is ambiguous.\n",
      "\u001b[0m\n",
      "\u001b[32muser: What's the weather like today\n",
      "\u001b[0m\n",
      "\u001b[34massistant[content]: Sure, I can help you with that. Could you please provide me with the city and state you'd like to know the weather for?\n",
      "\u001b[0m\n"
     ]
    }
   ],
   "source": [
    "messages = []\n",
    "\n",
    "messages.append({\n",
    "    \"role\": \"system\",  # 消息的角色是\"system\"\n",
    "    \"content\": \"Don't make assumptions about what values to plug into functions. Ask for clarification if a user request is ambiguous.\"\n",
    "})\n",
    "\n",
    "messages.append({\n",
    "    \"role\": \"user\",  # 消息的角色是\"user\"\n",
    "    \"content\": \"What's the weather like today\"  # 用户询问今天的天气情况\n",
    "})\n",
    "\n",
    "chat_response = openai_chat_request(\n",
    "    messages, functions=functions\n",
    ")\n",
    "messages.append(chat_response.json()[\"choices\"][0][\"message\"])\n",
    "\n",
    "pretty_print_conversation(messages)\n"
   ]
  },
  {
   "cell_type": "code",
   "execution_count": 16,
   "id": "7a9b8f86",
   "metadata": {},
   "outputs": [
    {
     "name": "stdout",
     "output_type": "stream",
     "text": [
      "\u001b[33msystem: Don't make assumptions about what values to plug into functions. Ask for clarification if a user request is ambiguous.\n",
      "\u001b[0m\n",
      "\u001b[32muser: What's the weather like today\n",
      "\u001b[0m\n",
      "\u001b[34massistant[content]: Sure, I can help you with that. Could you please provide me with the city and state you'd like to know the weather for?\n",
      "\u001b[0m\n",
      "\u001b[32muser: Shanghai, China.\n",
      "\u001b[0m\n",
      "\u001b[35mfunction (get_current_weather): 气温:24 天气:多云 风向:东北风\n",
      "\u001b[0m\n",
      "\u001b[32muser: Hangzhou\n",
      "\u001b[0m\n",
      "\u001b[35mfunction (get_current_weather): 气温:23 天气:多云 风向:南风\n",
      "\u001b[0m\n"
     ]
    }
   ],
   "source": [
    "messages.append({\n",
    "    \"role\": \"user\",  # 消息的角色是\"user\"\n",
    "    \"content\": \"Hangzhou\"  # 用户的消息内容\n",
    "})\n",
    "\n",
    "# 再次使用定义的chat_completion_request函数发起一个请求，传入更新后的messages和functions作为参数\n",
    "chat_response = openai_chat_request(\n",
    "    messages, functions=functions\n",
    ")\n",
    "\n",
    "# 解析返回的JSON数据，获取助手的新的回复消息\n",
    "assistant_message = chat_response.json()[\"choices\"][0][\"message\"]\n",
    "\n",
    "if assistant_message.get(\"function_call\"):\n",
    "    # 使用 execute_function_call 函数执行功能调用，并获取结果\n",
    "    results = execute_function_call(assistant_message)\n",
    "    # 将功能的结果作为一个功能角色的消息添加到消息列表中\n",
    "    messages.append({\"role\": \"function\", \"name\": assistant_message[\"function_call\"][\"name\"], \"content\": results})\n",
    "\n",
    "# 使用 pretty_print_conversation 函数打印对话\n",
    "pretty_print_conversation(messages)"
   ]
  }
 ],
 "metadata": {
  "kernelspec": {
   "display_name": "Python 3 (ipykernel)",
   "language": "python",
   "name": "python3"
  },
  "language_info": {
   "codemirror_mode": {
    "name": "ipython",
    "version": 3
   },
   "file_extension": ".py",
   "mimetype": "text/x-python",
   "name": "python",
   "nbconvert_exporter": "python",
   "pygments_lexer": "ipython3",
   "version": "3.9.16"
  }
 },
 "nbformat": 4,
 "nbformat_minor": 5
}
